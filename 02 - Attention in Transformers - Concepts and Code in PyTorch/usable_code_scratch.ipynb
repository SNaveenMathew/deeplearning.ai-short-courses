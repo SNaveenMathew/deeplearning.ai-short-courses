{
 "cells": [
  {
   "cell_type": "markdown",
   "id": "eb4bce6e-322e-4f7f-b0e4-8259c2f6c256",
   "metadata": {},
   "source": [
    "# Have to think!"
   ]
  }
 ],
 "metadata": {
  "kernelspec": {
   "display_name": "Python (dlai-short-courses)",
   "language": "python",
   "name": "dlai-short-courses"
  },
  "language_info": {
   "codemirror_mode": {
    "name": "ipython",
    "version": 3
   },
   "file_extension": ".py",
   "mimetype": "text/x-python",
   "name": "python",
   "nbconvert_exporter": "python",
   "pygments_lexer": "ipython3",
   "version": "3.9.18"
  }
 },
 "nbformat": 4,
 "nbformat_minor": 5
}
